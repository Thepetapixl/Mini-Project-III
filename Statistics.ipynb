{
 "cells": [
  {
   "cell_type": "code",
   "execution_count": 117,
   "metadata": {},
   "outputs": [],
   "source": [
    "import numpy as np\n",
    "import pandas as pd\n",
    "import matplotlib.pyplot as plt\n"
   ]
  },
  {
   "cell_type": "code",
   "execution_count": 118,
   "metadata": {},
   "outputs": [],
   "source": [
    "df = pd.read_csv(r\"C:\\Users\\Rupeshwar\\Desktop\\Car_Parking.csv\")"
   ]
  },
  {
   "cell_type": "code",
   "execution_count": 119,
   "metadata": {},
   "outputs": [
    {
     "data": {
      "text/html": [
       "<div>\n",
       "<style scoped>\n",
       "    .dataframe tbody tr th:only-of-type {\n",
       "        vertical-align: middle;\n",
       "    }\n",
       "\n",
       "    .dataframe tbody tr th {\n",
       "        vertical-align: top;\n",
       "    }\n",
       "\n",
       "    .dataframe thead th {\n",
       "        text-align: right;\n",
       "    }\n",
       "</style>\n",
       "<table border=\"1\" class=\"dataframe\">\n",
       "  <thead>\n",
       "    <tr style=\"text-align: right;\">\n",
       "      <th></th>\n",
       "      <th>S.No</th>\n",
       "      <th>Name</th>\n",
       "      <th>Vechile_No</th>\n",
       "      <th>Time-In</th>\n",
       "      <th>Time-Out</th>\n",
       "      <th>Duration</th>\n",
       "      <th>Amount</th>\n",
       "      <th>Rating</th>\n",
       "      <th>Year</th>\n",
       "    </tr>\n",
       "  </thead>\n",
       "  <tbody>\n",
       "    <tr>\n",
       "      <th>6</th>\n",
       "      <td>7</td>\n",
       "      <td>Hanumant. Tiwari</td>\n",
       "      <td>MH-123-XX--0007</td>\n",
       "      <td>10:00</td>\n",
       "      <td>16:00</td>\n",
       "      <td>360</td>\n",
       "      <td>120.0</td>\n",
       "      <td>5.0</td>\n",
       "      <td>2016</td>\n",
       "    </tr>\n",
       "    <tr>\n",
       "      <th>11</th>\n",
       "      <td>12</td>\n",
       "      <td>Shweta</td>\n",
       "      <td>MH-123-XX--0012</td>\n",
       "      <td>17:30</td>\n",
       "      <td>18:00</td>\n",
       "      <td>30</td>\n",
       "      <td>10.0</td>\n",
       "      <td>5.0</td>\n",
       "      <td>2016</td>\n",
       "    </tr>\n",
       "    <tr>\n",
       "      <th>12</th>\n",
       "      <td>13</td>\n",
       "      <td>Swaroop.Khan</td>\n",
       "      <td>GJ-456-TYU-5678</td>\n",
       "      <td>22:00</td>\n",
       "      <td>21:00</td>\n",
       "      <td>60</td>\n",
       "      <td>20.0</td>\n",
       "      <td>4.8</td>\n",
       "      <td>2016</td>\n",
       "    </tr>\n",
       "    <tr>\n",
       "      <th>16</th>\n",
       "      <td>17</td>\n",
       "      <td>Khushi. Tagore</td>\n",
       "      <td>MH-123-XX--0017</td>\n",
       "      <td>12:10</td>\n",
       "      <td>16:45</td>\n",
       "      <td>285</td>\n",
       "      <td>9.3</td>\n",
       "      <td>5.0</td>\n",
       "      <td>2016</td>\n",
       "    </tr>\n",
       "    <tr>\n",
       "      <th>26</th>\n",
       "      <td>27</td>\n",
       "      <td>Quete.Blank</td>\n",
       "      <td>MH-123-XX--0007</td>\n",
       "      <td>5:20</td>\n",
       "      <td>16:00</td>\n",
       "      <td>1120</td>\n",
       "      <td>373.3</td>\n",
       "      <td>5.0</td>\n",
       "      <td>2017</td>\n",
       "    </tr>\n",
       "    <tr>\n",
       "      <th>29</th>\n",
       "      <td>30</td>\n",
       "      <td>Antonio. Clik</td>\n",
       "      <td>MH-123-XX--0010</td>\n",
       "      <td>15:20</td>\n",
       "      <td>19:00</td>\n",
       "      <td>1660</td>\n",
       "      <td>553.3</td>\n",
       "      <td>5.0</td>\n",
       "      <td>2017</td>\n",
       "    </tr>\n",
       "    <tr>\n",
       "      <th>31</th>\n",
       "      <td>32</td>\n",
       "      <td>Shrija</td>\n",
       "      <td>MH-123-XX--0012</td>\n",
       "      <td>22:00</td>\n",
       "      <td>5:00</td>\n",
       "      <td>2020</td>\n",
       "      <td>673.3</td>\n",
       "      <td>5.0</td>\n",
       "      <td>2017</td>\n",
       "    </tr>\n",
       "    <tr>\n",
       "      <th>32</th>\n",
       "      <td>33</td>\n",
       "      <td>Jagadale</td>\n",
       "      <td>GJ-456-TYU-5678</td>\n",
       "      <td>1:20</td>\n",
       "      <td>22:00</td>\n",
       "      <td>2200</td>\n",
       "      <td>733.3</td>\n",
       "      <td>4.8</td>\n",
       "      <td>2017</td>\n",
       "    </tr>\n",
       "    <tr>\n",
       "      <th>36</th>\n",
       "      <td>37</td>\n",
       "      <td>Rohit. Jha</td>\n",
       "      <td>MH-123-XX--0017</td>\n",
       "      <td>14:40</td>\n",
       "      <td>18:00</td>\n",
       "      <td>2920</td>\n",
       "      <td>973.3</td>\n",
       "      <td>5.0</td>\n",
       "      <td>2017</td>\n",
       "    </tr>\n",
       "    <tr>\n",
       "      <th>46</th>\n",
       "      <td>47</td>\n",
       "      <td>Abrams, Creighton</td>\n",
       "      <td>MH-123-XX--0005</td>\n",
       "      <td>10:00</td>\n",
       "      <td>16:00</td>\n",
       "      <td>360</td>\n",
       "      <td>120.0</td>\n",
       "      <td>5.0</td>\n",
       "      <td>2018</td>\n",
       "    </tr>\n",
       "    <tr>\n",
       "      <th>51</th>\n",
       "      <td>53</td>\n",
       "      <td>Eddington, Arthur Stanley</td>\n",
       "      <td>CG-007-TYGF-0050</td>\n",
       "      <td>17:30</td>\n",
       "      <td>18:00</td>\n",
       "      <td>30</td>\n",
       "      <td>10.0</td>\n",
       "      <td>5.0</td>\n",
       "      <td>2018</td>\n",
       "    </tr>\n",
       "    <tr>\n",
       "      <th>52</th>\n",
       "      <td>54</td>\n",
       "      <td>Edison, Thomas Alva</td>\n",
       "      <td>MH-123-XX--0008</td>\n",
       "      <td>22:00</td>\n",
       "      <td>21:00</td>\n",
       "      <td>60</td>\n",
       "      <td>20.0</td>\n",
       "      <td>4.8</td>\n",
       "      <td>2018</td>\n",
       "    </tr>\n",
       "    <tr>\n",
       "      <th>56</th>\n",
       "      <td>58</td>\n",
       "      <td>Eggers, Dave</td>\n",
       "      <td>MH-123-XX--0010</td>\n",
       "      <td>12:10</td>\n",
       "      <td>16:45</td>\n",
       "      <td>285</td>\n",
       "      <td>9.3</td>\n",
       "      <td>5.0</td>\n",
       "      <td>2018</td>\n",
       "    </tr>\n",
       "    <tr>\n",
       "      <th>67</th>\n",
       "      <td>69</td>\n",
       "      <td>Fulbright, J. William</td>\n",
       "      <td>CG-007-TYGF-0058</td>\n",
       "      <td>5:20</td>\n",
       "      <td>16:00</td>\n",
       "      <td>1120</td>\n",
       "      <td>90.0</td>\n",
       "      <td>5.0</td>\n",
       "      <td>2019</td>\n",
       "    </tr>\n",
       "    <tr>\n",
       "      <th>71</th>\n",
       "      <td>73</td>\n",
       "      <td>Olivia</td>\n",
       "      <td>MH-123-XX--0017</td>\n",
       "      <td>15:20</td>\n",
       "      <td>19:00</td>\n",
       "      <td>360</td>\n",
       "      <td>20.0</td>\n",
       "      <td>5.0</td>\n",
       "      <td>2019</td>\n",
       "    </tr>\n",
       "    <tr>\n",
       "      <th>73</th>\n",
       "      <td>75</td>\n",
       "      <td>Ava</td>\n",
       "      <td>CG-007-TYGF-0060</td>\n",
       "      <td>22:00</td>\n",
       "      <td>5:00</td>\n",
       "      <td>45</td>\n",
       "      <td>56.0</td>\n",
       "      <td>5.0</td>\n",
       "      <td>2019</td>\n",
       "    </tr>\n",
       "    <tr>\n",
       "      <th>78</th>\n",
       "      <td>80</td>\n",
       "      <td>Lucy</td>\n",
       "      <td>MH-123-XX--0019</td>\n",
       "      <td>14:40</td>\n",
       "      <td>18:00</td>\n",
       "      <td>330</td>\n",
       "      <td>90.0</td>\n",
       "      <td>5.0</td>\n",
       "      <td>2019</td>\n",
       "    </tr>\n",
       "    <tr>\n",
       "      <th>82</th>\n",
       "      <td>84</td>\n",
       "      <td>Harsh</td>\n",
       "      <td>CG-007-TYGF-0063</td>\n",
       "      <td>9:20</td>\n",
       "      <td>10:00</td>\n",
       "      <td>15</td>\n",
       "      <td>89.0</td>\n",
       "      <td>5.0</td>\n",
       "      <td>2020</td>\n",
       "    </tr>\n",
       "    <tr>\n",
       "      <th>93</th>\n",
       "      <td>95</td>\n",
       "      <td>Elijah.M</td>\n",
       "      <td>MH-123-XX--0024</td>\n",
       "      <td>17:30</td>\n",
       "      <td>18:00</td>\n",
       "      <td>360</td>\n",
       "      <td>89.0</td>\n",
       "      <td>5.0</td>\n",
       "      <td>2020</td>\n",
       "    </tr>\n",
       "    <tr>\n",
       "      <th>94</th>\n",
       "      <td>96</td>\n",
       "      <td>Caroline.S</td>\n",
       "      <td>CG-007-TYGF-0067</td>\n",
       "      <td>22:00</td>\n",
       "      <td>21:00</td>\n",
       "      <td>333</td>\n",
       "      <td>10.0</td>\n",
       "      <td>5.0</td>\n",
       "      <td>2020</td>\n",
       "    </tr>\n",
       "    <tr>\n",
       "      <th>97</th>\n",
       "      <td>99</td>\n",
       "      <td>Savannh. Shaikh</td>\n",
       "      <td>CG-007-TYGF-0068</td>\n",
       "      <td>10:00</td>\n",
       "      <td>11:00</td>\n",
       "      <td>180</td>\n",
       "      <td>76.0</td>\n",
       "      <td>4.9</td>\n",
       "      <td>2020</td>\n",
       "    </tr>\n",
       "    <tr>\n",
       "      <th>98</th>\n",
       "      <td>100</td>\n",
       "      <td>Aurota.L</td>\n",
       "      <td>MH-123-XX--0026</td>\n",
       "      <td>12:10</td>\n",
       "      <td>16:45</td>\n",
       "      <td>40</td>\n",
       "      <td>34.0</td>\n",
       "      <td>5.0</td>\n",
       "      <td>2020</td>\n",
       "    </tr>\n",
       "  </tbody>\n",
       "</table>\n",
       "</div>"
      ],
      "text/plain": [
       "    S.No                       Name        Vechile_No Time-In Time-Out  \\\n",
       "6      7           Hanumant. Tiwari   MH-123-XX--0007   10:00    16:00   \n",
       "11    12                     Shweta   MH-123-XX--0012   17:30    18:00   \n",
       "12    13               Swaroop.Khan   GJ-456-TYU-5678   22:00    21:00   \n",
       "16    17             Khushi. Tagore   MH-123-XX--0017   12:10    16:45   \n",
       "26    27                Quete.Blank   MH-123-XX--0007    5:20    16:00   \n",
       "29    30              Antonio. Clik   MH-123-XX--0010   15:20    19:00   \n",
       "31    32                     Shrija   MH-123-XX--0012   22:00     5:00   \n",
       "32    33                   Jagadale   GJ-456-TYU-5678    1:20    22:00   \n",
       "36    37                 Rohit. Jha   MH-123-XX--0017   14:40    18:00   \n",
       "46    47          Abrams, Creighton   MH-123-XX--0005   10:00    16:00   \n",
       "51    53  Eddington, Arthur Stanley  CG-007-TYGF-0050   17:30    18:00   \n",
       "52    54        Edison, Thomas Alva   MH-123-XX--0008   22:00    21:00   \n",
       "56    58               Eggers, Dave   MH-123-XX--0010   12:10    16:45   \n",
       "67    69      Fulbright, J. William  CG-007-TYGF-0058    5:20    16:00   \n",
       "71    73                     Olivia   MH-123-XX--0017   15:20    19:00   \n",
       "73    75                        Ava  CG-007-TYGF-0060   22:00     5:00   \n",
       "78    80                       Lucy   MH-123-XX--0019   14:40    18:00   \n",
       "82    84                      Harsh  CG-007-TYGF-0063    9:20    10:00   \n",
       "93    95                   Elijah.M   MH-123-XX--0024   17:30    18:00   \n",
       "94    96                 Caroline.S  CG-007-TYGF-0067   22:00    21:00   \n",
       "97    99            Savannh. Shaikh  CG-007-TYGF-0068   10:00    11:00   \n",
       "98   100                   Aurota.L   MH-123-XX--0026   12:10    16:45   \n",
       "\n",
       "    Duration  Amount  Rating  Year  \n",
       "6        360   120.0     5.0  2016  \n",
       "11        30    10.0     5.0  2016  \n",
       "12        60    20.0     4.8  2016  \n",
       "16       285     9.3     5.0  2016  \n",
       "26      1120   373.3     5.0  2017  \n",
       "29      1660   553.3     5.0  2017  \n",
       "31      2020   673.3     5.0  2017  \n",
       "32      2200   733.3     4.8  2017  \n",
       "36      2920   973.3     5.0  2017  \n",
       "46       360   120.0     5.0  2018  \n",
       "51        30    10.0     5.0  2018  \n",
       "52        60    20.0     4.8  2018  \n",
       "56       285     9.3     5.0  2018  \n",
       "67      1120    90.0     5.0  2019  \n",
       "71       360    20.0     5.0  2019  \n",
       "73        45    56.0     5.0  2019  \n",
       "78       330    90.0     5.0  2019  \n",
       "82        15    89.0     5.0  2020  \n",
       "93       360    89.0     5.0  2020  \n",
       "94       333    10.0     5.0  2020  \n",
       "97       180    76.0     4.9  2020  \n",
       "98        40    34.0     5.0  2020  "
      ]
     },
     "execution_count": 119,
     "metadata": {},
     "output_type": "execute_result"
    }
   ],
   "source": [
    "df.loc[df['Rating'] > 4.7]"
   ]
  },
  {
   "cell_type": "code",
   "execution_count": 120,
   "metadata": {},
   "outputs": [
    {
     "data": {
      "text/plain": [
       "[<matplotlib.lines.Line2D at 0x18b71a8f988>]"
      ]
     },
     "execution_count": 120,
     "metadata": {},
     "output_type": "execute_result"
    },
    {
     "data": {
      "image/png": "[encoded data removed]",
      "text/plain": [
       "<Figure size 432x288 with 1 Axes>"
      ]
     },
     "metadata": {
      "needs_background": "light"
     },
     "output_type": "display_data"
    }
   ],
   "source": [
    "plt.plot(df[\"Year\"], df[\"Amount\"])"
   ]
  },
  {
   "cell_type": "code",
   "execution_count": 121,
   "metadata": {},
   "outputs": [
    {
     "data": {
      "text/plain": [
       "<matplotlib.axes._subplots.AxesSubplot at 0x18b71aef248>"
      ]
     },
     "execution_count": 121,
     "metadata": {},
     "output_type": "execute_result"
    },
    {
     "data": {
      "image/png": "[encoded data removed]",
      "text/plain": [
       "<Figure size 432x288 with 1 Axes>"
      ]
     },
     "metadata": {
      "needs_background": "light"
     },
     "output_type": "display_data"
    }
   ],
   "source": [
    "df.plot(x=\"Year\", y=\"Amount\", kind=\"bar\")"
   ]
  },
  {
   "cell_type": "code",
   "execution_count": 122,
   "metadata": {},
   "outputs": [],
   "source": [
    "y_2016 = df.loc[df['Year'] == 2016, 'Amount'].sum()"
   ]
  },
  {
   "cell_type": "code",
   "execution_count": 123,
   "metadata": {},
   "outputs": [],
   "source": [
    "y_2017 = df.loc[df['Year'] == 2017, 'Amount'].sum()"
   ]
  },
  {
   "cell_type": "code",
   "execution_count": 124,
   "metadata": {},
   "outputs": [],
   "source": [
    "y_2018 = df.loc[df['Year'] == 2018, 'Amount'].sum()"
   ]
  },
  {
   "cell_type": "code",
   "execution_count": 125,
   "metadata": {},
   "outputs": [],
   "source": [
    "y_2019 = df.loc[df['Year'] == 2019, 'Amount'].sum()"
   ]
  },
  {
   "cell_type": "code",
   "execution_count": 126,
   "metadata": {},
   "outputs": [],
   "source": [
    "y_2020 = df.loc[df['Year'] == 2020, 'Amount'].sum()"
   ]
  },
  {
   "cell_type": "code",
   "execution_count": 127,
   "metadata": {},
   "outputs": [
    {
     "data": {
      "image/png": "[encoded data removed]",
      "text/plain": [
       "<Figure size 432x288 with 1 Axes>"
      ]
     },
     "metadata": {},
     "output_type": "display_data"
    }
   ],
   "source": [
    "# Performance of the parking System over the years\n",
    "years = [y_2016,y_2017,y_2018,y_2019,y_2020]\n",
    "\n",
    "my_labels = '2016','2017','2018','2019','2020'\n",
    "my_colors = ['Red','Blue','Black', 'Yellow','Violet']\n",
    "plt.pie(years,labels=my_labels,autopct='%1.1f%%')\n",
    "plt.title('Revenue')\n",
    "plt.axis('equal')\n",
    "plt.show()"
   ]
  },
  {
   "cell_type": "code",
   "execution_count": 131,
   "metadata": {},
   "outputs": [],
   "source": [
    "add = pd.value_counts(df['Year'] == 2016, \"True\")"
   ]
  },
  {
   "cell_type": "code",
   "execution_count": 132,
   "metadata": {},
   "outputs": [],
   "source": [
    "#add2 = pd.value_counts(df['Year'] == 2017)"
   ]
  },
  {
   "cell_type": "code",
   "execution_count": 130,
   "metadata": {},
   "outputs": [
    {
     "ename": "KeyError",
     "evalue": "'add'",
     "output_type": "error",
     "traceback": [
      "\u001b[1;31m---------------------------------------------------------------------------\u001b[0m",
      "\u001b[1;31mKeyError\u001b[0m                                  Traceback (most recent call last)",
      "\u001b[1;32m~\\anaconda3\\lib\\site-packages\\pandas\\core\\indexes\\base.py\u001b[0m in \u001b[0;36mget_loc\u001b[1;34m(self, key, method, tolerance)\u001b[0m\n\u001b[0;32m   2645\u001b[0m             \u001b[1;32mtry\u001b[0m\u001b[1;33m:\u001b[0m\u001b[1;33m\u001b[0m\u001b[1;33m\u001b[0m\u001b[0m\n\u001b[1;32m-> 2646\u001b[1;33m                 \u001b[1;32mreturn\u001b[0m \u001b[0mself\u001b[0m\u001b[1;33m.\u001b[0m\u001b[0m_engine\u001b[0m\u001b[1;33m.\u001b[0m\u001b[0mget_loc\u001b[0m\u001b[1;33m(\u001b[0m\u001b[0mkey\u001b[0m\u001b[1;33m)\u001b[0m\u001b[1;33m\u001b[0m\u001b[1;33m\u001b[0m\u001b[0m\n\u001b[0m\u001b[0;32m   2647\u001b[0m             \u001b[1;32mexcept\u001b[0m \u001b[0mKeyError\u001b[0m\u001b[1;33m:\u001b[0m\u001b[1;33m\u001b[0m\u001b[1;33m\u001b[0m\u001b[0m\n",
      "\u001b[1;32mpandas\\_libs\\index.pyx\u001b[0m in \u001b[0;36mpandas._libs.index.IndexEngine.get_loc\u001b[1;34m()\u001b[0m\n",
      "\u001b[1;32mpandas\\_libs\\index.pyx\u001b[0m in \u001b[0;36mpandas._libs.index.IndexEngine.get_loc\u001b[1;34m()\u001b[0m\n",
      "\u001b[1;32mpandas\\_libs\\hashtable_class_helper.pxi\u001b[0m in \u001b[0;36mpandas._libs.hashtable.PyObjectHashTable.get_item\u001b[1;34m()\u001b[0m\n",
      "\u001b[1;32mpandas\\_libs\\hashtable_class_helper.pxi\u001b[0m in \u001b[0;36mpandas._libs.hashtable.PyObjectHashTable.get_item\u001b[1;34m()\u001b[0m\n",
      "\u001b[1;31mKeyError\u001b[0m: 'add'",
      "\nDuring handling of the above exception, another exception occurred:\n",
      "\u001b[1;31mKeyError\u001b[0m                                  Traceback (most recent call last)",
      "\u001b[1;32m<ipython-input-130-e2b745f1e693>\u001b[0m in \u001b[0;36m<module>\u001b[1;34m\u001b[0m\n\u001b[1;32m----> 1\u001b[1;33m \u001b[0mnp\u001b[0m\u001b[1;33m.\u001b[0m\u001b[0munique\u001b[0m\u001b[1;33m(\u001b[0m\u001b[0mdf\u001b[0m\u001b[1;33m[\u001b[0m\u001b[1;34m'add'\u001b[0m\u001b[1;33m]\u001b[0m\u001b[1;33m,\u001b[0m \u001b[0mreturn_counts\u001b[0m\u001b[1;33m=\u001b[0m\u001b[1;32mTrue\u001b[0m\u001b[1;33m)\u001b[0m\u001b[1;33m\u001b[0m\u001b[1;33m\u001b[0m\u001b[0m\n\u001b[0m",
      "\u001b[1;32m~\\anaconda3\\lib\\site-packages\\pandas\\core\\frame.py\u001b[0m in \u001b[0;36m__getitem__\u001b[1;34m(self, key)\u001b[0m\n\u001b[0;32m   2798\u001b[0m             \u001b[1;32mif\u001b[0m \u001b[0mself\u001b[0m\u001b[1;33m.\u001b[0m\u001b[0mcolumns\u001b[0m\u001b[1;33m.\u001b[0m\u001b[0mnlevels\u001b[0m \u001b[1;33m>\u001b[0m \u001b[1;36m1\u001b[0m\u001b[1;33m:\u001b[0m\u001b[1;33m\u001b[0m\u001b[1;33m\u001b[0m\u001b[0m\n\u001b[0;32m   2799\u001b[0m                 \u001b[1;32mreturn\u001b[0m \u001b[0mself\u001b[0m\u001b[1;33m.\u001b[0m\u001b[0m_getitem_multilevel\u001b[0m\u001b[1;33m(\u001b[0m\u001b[0mkey\u001b[0m\u001b[1;33m)\u001b[0m\u001b[1;33m\u001b[0m\u001b[1;33m\u001b[0m\u001b[0m\n\u001b[1;32m-> 2800\u001b[1;33m             \u001b[0mindexer\u001b[0m \u001b[1;33m=\u001b[0m \u001b[0mself\u001b[0m\u001b[1;33m.\u001b[0m\u001b[0mcolumns\u001b[0m\u001b[1;33m.\u001b[0m\u001b[0mget_loc\u001b[0m\u001b[1;33m(\u001b[0m\u001b[0mkey\u001b[0m\u001b[1;33m)\u001b[0m\u001b[1;33m\u001b[0m\u001b[1;33m\u001b[0m\u001b[0m\n\u001b[0m\u001b[0;32m   2801\u001b[0m             \u001b[1;32mif\u001b[0m \u001b[0mis_integer\u001b[0m\u001b[1;33m(\u001b[0m\u001b[0mindexer\u001b[0m\u001b[1;33m)\u001b[0m\u001b[1;33m:\u001b[0m\u001b[1;33m\u001b[0m\u001b[1;33m\u001b[0m\u001b[0m\n\u001b[0;32m   2802\u001b[0m                 \u001b[0mindexer\u001b[0m \u001b[1;33m=\u001b[0m \u001b[1;33m[\u001b[0m\u001b[0mindexer\u001b[0m\u001b[1;33m]\u001b[0m\u001b[1;33m\u001b[0m\u001b[1;33m\u001b[0m\u001b[0m\n",
      "\u001b[1;32m~\\anaconda3\\lib\\site-packages\\pandas\\core\\indexes\\base.py\u001b[0m in \u001b[0;36mget_loc\u001b[1;34m(self, key, method, tolerance)\u001b[0m\n\u001b[0;32m   2646\u001b[0m                 \u001b[1;32mreturn\u001b[0m \u001b[0mself\u001b[0m\u001b[1;33m.\u001b[0m\u001b[0m_engine\u001b[0m\u001b[1;33m.\u001b[0m\u001b[0mget_loc\u001b[0m\u001b[1;33m(\u001b[0m\u001b[0mkey\u001b[0m\u001b[1;33m)\u001b[0m\u001b[1;33m\u001b[0m\u001b[1;33m\u001b[0m\u001b[0m\n\u001b[0;32m   2647\u001b[0m             \u001b[1;32mexcept\u001b[0m \u001b[0mKeyError\u001b[0m\u001b[1;33m:\u001b[0m\u001b[1;33m\u001b[0m\u001b[1;33m\u001b[0m\u001b[0m\n\u001b[1;32m-> 2648\u001b[1;33m                 \u001b[1;32mreturn\u001b[0m \u001b[0mself\u001b[0m\u001b[1;33m.\u001b[0m\u001b[0m_engine\u001b[0m\u001b[1;33m.\u001b[0m\u001b[0mget_loc\u001b[0m\u001b[1;33m(\u001b[0m\u001b[0mself\u001b[0m\u001b[1;33m.\u001b[0m\u001b[0m_maybe_cast_indexer\u001b[0m\u001b[1;33m(\u001b[0m\u001b[0mkey\u001b[0m\u001b[1;33m)\u001b[0m\u001b[1;33m)\u001b[0m\u001b[1;33m\u001b[0m\u001b[1;33m\u001b[0m\u001b[0m\n\u001b[0m\u001b[0;32m   2649\u001b[0m         \u001b[0mindexer\u001b[0m \u001b[1;33m=\u001b[0m \u001b[0mself\u001b[0m\u001b[1;33m.\u001b[0m\u001b[0mget_indexer\u001b[0m\u001b[1;33m(\u001b[0m\u001b[1;33m[\u001b[0m\u001b[0mkey\u001b[0m\u001b[1;33m]\u001b[0m\u001b[1;33m,\u001b[0m \u001b[0mmethod\u001b[0m\u001b[1;33m=\u001b[0m\u001b[0mmethod\u001b[0m\u001b[1;33m,\u001b[0m \u001b[0mtolerance\u001b[0m\u001b[1;33m=\u001b[0m\u001b[0mtolerance\u001b[0m\u001b[1;33m)\u001b[0m\u001b[1;33m\u001b[0m\u001b[1;33m\u001b[0m\u001b[0m\n\u001b[0;32m   2650\u001b[0m         \u001b[1;32mif\u001b[0m \u001b[0mindexer\u001b[0m\u001b[1;33m.\u001b[0m\u001b[0mndim\u001b[0m \u001b[1;33m>\u001b[0m \u001b[1;36m1\u001b[0m \u001b[1;32mor\u001b[0m \u001b[0mindexer\u001b[0m\u001b[1;33m.\u001b[0m\u001b[0msize\u001b[0m \u001b[1;33m>\u001b[0m \u001b[1;36m1\u001b[0m\u001b[1;33m:\u001b[0m\u001b[1;33m\u001b[0m\u001b[1;33m\u001b[0m\u001b[0m\n",
      "\u001b[1;32mpandas\\_libs\\index.pyx\u001b[0m in \u001b[0;36mpandas._libs.index.IndexEngine.get_loc\u001b[1;34m()\u001b[0m\n",
      "\u001b[1;32mpandas\\_libs\\index.pyx\u001b[0m in \u001b[0;36mpandas._libs.index.IndexEngine.get_loc\u001b[1;34m()\u001b[0m\n",
      "\u001b[1;32mpandas\\_libs\\hashtable_class_helper.pxi\u001b[0m in \u001b[0;36mpandas._libs.hashtable.PyObjectHashTable.get_item\u001b[1;34m()\u001b[0m\n",
      "\u001b[1;32mpandas\\_libs\\hashtable_class_helper.pxi\u001b[0m in \u001b[0;36mpandas._libs.hashtable.PyObjectHashTable.get_item\u001b[1;34m()\u001b[0m\n",
      "\u001b[1;31mKeyError\u001b[0m: 'add'"
     ]
    }
   ],
   "source": [
    "np.unique(add, return_counts=True)"
   ]
  },
  {
   "cell_type": "code",
   "execution_count": null,
   "metadata": {},
   "outputs": [],
   "source": []
  }
 ],
 "metadata": {
  "kernelspec": {
   "display_name": "Python 3",
   "language": "python",
   "name": "python3"
  },
  "language_info": {
   "codemirror_mode": {
    "name": "ipython",
    "version": 3
   },
   "file_extension": ".py",
   "mimetype": "text/x-python",
   "name": "python",
   "nbconvert_exporter": "python",
   "pygments_lexer": "ipython3",
   "version": "3.7.6"
  }
 },
 "nbformat": 4,
 "nbformat_minor": 4
}
